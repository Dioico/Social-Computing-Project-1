{
 "cells": [
  {
   "cell_type": "markdown",
   "metadata": {},
   "source": [
    "# 0. IMPORT ED AUTENTICAZIONE"
   ]
  },
  {
   "cell_type": "code",
   "execution_count": null,
   "metadata": {},
   "outputs": [],
   "source": [
    "#0.Preparo l'ambiente e variabili\n",
    "import os \n",
    "import json\n",
    "import pprint\n",
    "import tweepy\n",
    "import pprint\n",
    "import os\n",
    "import networkx as nx\n",
    "import pandas as pd\n",
    "import numpy as np\n",
    "import matplotlib.pyplot as plt\n",
    "from pylab import rcParams\n",
    "pp = pprint.PrettyPrinter()\n",
    "print(\"Setup completed!\")"
   ]
  },
  {
   "cell_type": "markdown",
   "metadata": {},
   "source": [
    "# 0. GESTIONE JSON"
   ]
  },
  {
   "cell_type": "code",
   "execution_count": null,
   "metadata": {},
   "outputs": [],
   "source": [
    "#0.Gestione JSON\n",
    "data_folder = \"data\"\n",
    "\n",
    "def serialize_json(folder, filename, data):\n",
    "    if not os.path.exists(folder):\n",
    "        os.makedirs(folder, exist_ok=True)\n",
    "    with open(f\"{folder}/{filename}\", 'w', encoding='utf-8') as f:\n",
    "        json.dump(data, f, ensure_ascii=False, indent=4)\n",
    "        f.close()\n",
    "    print(f\"Data serialized to path: {folder}/{filename}\")\n",
    "\n",
    "def read_json(path):\n",
    "    if os.path.exists(path):\n",
    "        with open(path, \"r\", encoding=\"utf8\") as file:\n",
    "            data = json.load(file)\n",
    "        print(f\"Data read from path: {path}\")\n",
    "        return data\n",
    "    else:\n",
    "        print(f\"No data found at path: {path}\")\n",
    "        return {}\n",
    " \n"
   ]
  },
  {
   "cell_type": "code",
   "execution_count": null,
   "metadata": {},
   "outputs": [],
   "source": [
    "\n",
    "def randomize(read_path, save_path):\n",
    "    data_account = read_json(read_path)\n",
    "    random_account = []\n",
    "    number_of_account = len(data_account)\n",
    "    print(f\"Followers: {number_of_account}\")\n",
    "    for x in range(5):\n",
    "        rand = random.randint(0,number_of_account-1)\n",
    "        #pp.pprint(rand)\n",
    "        pp.pprint(data_account[rand])\n",
    "        if data_account[rand] not in random_account:\n",
    "            random_account.append(data_account[rand])\n",
    "        else:\n",
    "            x = x-1\n",
    "\n",
    "    serialize_json(data_folder, save_path, random_account)\n",
    "\n",
    "\n",
    "randomize(\"data/KevinRoiteroFollowers.json\", \"KevinRoiteroRandomFollowers.json\")"
   ]
  },
  {
   "cell_type": "markdown",
   "metadata": {},
   "source": [
    "# 1. FOLLOWERS"
   ]
  },
  {
   "cell_type": "code",
   "execution_count": null,
   "metadata": {},
   "outputs": [],
   "source": [
    "#1.Scarico utenti followers \n",
    "quantity = 1000\n",
    "def getFollowers(account, path):\n",
    "    followers_of_account = []\n",
    "\n",
    "    for item in tweepy.Cursor(\n",
    "            api.followers,\n",
    "            screen_name=account,\n",
    "            skip_status=True,\n",
    "            include_user_entities=False\n",
    "    ).items(quantity):\n",
    "\n",
    "        json_data = item._json\n",
    "\n",
    "        found_follower = {}\n",
    "        found_follower[\"id\"] = json_data[\"id\"]\n",
    "        found_follower[\"name\"] = json_data[\"name\"]\n",
    "        found_follower[\"screen_name\"] = json_data[\"screen_name\"]\n",
    "        found_follower[\"location\"] = json_data[\"location\"]\n",
    "        if found_follower not in followers_of_account:\n",
    "            followers_of_account.append(found_follower)\n",
    "        print(f\"Processing Follower {len(followers_of_account)} of account: {account}\")\n",
    "\n",
    "    serialize_json(data_folder, path, followers_of_account)\n",
    "    \n",
    "#user_getFollowers = \"damiano10\"\n",
    "#getFollowers(user_getFollowers, \"mizzaroFollowers.json\")\n"
   ]
  },
  {
   "cell_type": "code",
   "execution_count": null,
   "metadata": {},
   "outputs": [],
   "source": [
    "followers = read_json(f\"{data_folder}/mizzaroFollowers.json\")\n",
    "followers5 = (followers[:5])\n",
    "followersSN = []\n",
    "for x in followers5:\n",
    "    followersSN += [ x[\"screen_name\"]]\n",
    "print(followersSN)"
   ]
  },
  {
   "cell_type": "markdown",
   "metadata": {},
   "source": [
    "# 1. FOLLOWING"
   ]
  },
  {
   "cell_type": "code",
   "execution_count": null,
   "metadata": {},
   "outputs": [],
   "source": [
    "#1.Scarico gli utenti friends\n",
    "quantity = 1000\n",
    "def getFollowing(account, path):\n",
    "    followings_of_account = []\n",
    "\n",
    "    for item in tweepy.Cursor(\n",
    "            api.friends,\n",
    "            screen_name=account,\n",
    "            skip_status=True,\n",
    "            include_user_entities=False\n",
    "    ).items(quantity):\n",
    "\n",
    "        json_data = item._json\n",
    "\n",
    "        found_following = {}\n",
    "        found_following[\"id\"] = json_data[\"id\"]\n",
    "        found_following[\"name\"] = json_data[\"name\"]\n",
    "        found_following[\"screen_name\"] = json_data[\"screen_name\"]\n",
    "        found_following[\"location\"] = json_data[\"location\"]\n",
    "        \n",
    "        if found_following not in followings_of_account:\n",
    "            followings_of_account.append(found_following)\n",
    "        print(f\"Processing Following {len(followings_of_account)} of account: {account}\")\n",
    "\n",
    "    serialize_json(data_folder, path, followings_of_account)\n",
    "#user_getFollowings = \"mizzaro\"    ,damiano10 \n",
    "#getFollowing(user_getFollowings , \"mizzaroFollowings.json\")"
   ]
  },
  {
   "cell_type": "code",
   "execution_count": null,
   "metadata": {},
   "outputs": [],
   "source": [
    "followings = read_json(f\"{data_folder}/mizzaroFollowings.json\")\n",
    "followings5 = followings[:5]\n",
    "followingsSN =[]\n",
    "for x in followings5:\n",
    "    followingsSN += [ x[\"screen_name\"]]\n",
    "print(followingsSN)\n",
    "followingsSN = ['LucaBizzarri', 'SIGIRConf', 'Dio', 'TerribleMaps', 'lercionotizie']"
   ]
  },
  {
   "cell_type": "markdown",
   "metadata": {},
   "source": [
    "# 2. FOLLOWERS OF FOLLOWERS"
   ]
  },
  {
   "cell_type": "code",
   "execution_count": null,
   "metadata": {},
   "outputs": [],
   "source": [
    "followers = read_json(f\"{data_folder}/mizzaroFollowers.json\")\n",
    "followers5 = (followers[:5])\n",
    "followersSN =[]\n",
    "for x in followers5:\n",
    "    followersSN += [ x[\"screen_name\"]]"
   ]
  },
  {
   "cell_type": "code",
   "execution_count": null,
   "metadata": {},
   "outputs": [],
   "source": [
    "quantity = 10\n",
    "for followers in followingsSN:\n",
    "    \n",
    "    print(f\"Processing follower {followers}\")\n",
    "    path = followers + \"Followers.json\"\n",
    "    getFollowers(followers, path)"
   ]
  },
  {
   "cell_type": "markdown",
   "metadata": {},
   "source": [
    "# 3. FOLLOWING OF FOLLOWING"
   ]
  },
  {
   "cell_type": "code",
   "execution_count": null,
   "metadata": {},
   "outputs": [],
   "source": [
    "followings = read_json(f\"{data_folder}/mizzaroFollowings.json\")\n",
    "followings5 = followings[:5]\n",
    "followingsSN =[]\n",
    "for x in followings5:\n",
    "    followingsSN += [ x[\"screen_name\"]]\n",
    "print(followingsSN) "
   ]
  },
  {
   "cell_type": "code",
   "execution_count": null,
   "metadata": {},
   "outputs": [],
   "source": [
    "followingsSN = ['LucaBizzarri', 'SIGIRConf', 'Dio', 'TerribleMaps', 'lercionotizie']\n",
    "quantity = 10\n",
    "for following in followingsSN:\n",
    "    print(f\"Processing following {following}\")\n",
    "    path = following + \"Followings.json\"\n",
    "    getFollowing(following, path)"
   ]
  },
  {
   "cell_type": "markdown",
   "metadata": {},
   "source": [
    "# 3. UNIONE UTENTI"
   ]
  },
  {
   "cell_type": "code",
   "execution_count": null,
   "metadata": {},
   "outputs": [],
   "source": [
    "followers = read_json(f\"{data_folder}/mizzaroFollowers.json\")\n",
    "followers5 = (followers[:5])\n",
    "followersSN =[]\n",
    "for x in followers5:\n",
    "    followersSN += [ x[\"screen_name\"]]\n",
    "print(followersSN)   \n",
    "\n",
    "followings = read_json(f\"{data_folder}/mizzaroFollowings.json\")\n",
    "followings5 = followings[:5]\n",
    "followingsSN =[]\n",
    "for x in followings5:\n",
    "    followingsSN += [ x[\"screen_name\"]]\n",
    "print(followingsSN) \n",
    "#PROBLEMA LERCIONOTIZIE E JAMIE CALLAN  Dio makkox"
   ]
  },
  {
   "cell_type": "code",
   "execution_count": null,
   "metadata": {},
   "outputs": [],
   "source": [
    "\n",
    "def group(lista,nome):\n",
    "    list_of_list= {}\n",
    "    path =\"list_of_\" +nome+\".json\"\n",
    "    for user in lista:\n",
    "        list_of_accounts = read_json(f\"{data_folder}/\"+user+nome+\".json\")\n",
    "        list_of_list[user] = list_of_accounts\n",
    "        #print(list_of_list[user]) \n",
    "    serialize_json(data_folder, path, list_of_list)\n",
    "#  \n"
   ]
  },
  {
   "cell_type": "code",
   "execution_count": null,
   "metadata": {},
   "outputs": [],
   "source": [
    "group(followersSN,\"Followers\")\n"
   ]
  },
  {
   "cell_type": "code",
   "execution_count": null,
   "metadata": {},
   "outputs": [],
   "source": [
    "group(followingsSN,\"Followings\")"
   ]
  },
  {
   "cell_type": "markdown",
   "metadata": {},
   "source": [
    "# 4. GET USERS DATA"
   ]
  },
  {
   "cell_type": "markdown",
   "metadata": {},
   "source": [
    "#Scaricare i dettagli del profilo di tutti gli utenti recuperati"
   ]
  },
  {
   "cell_type": "code",
   "execution_count": null,
   "metadata": {},
   "outputs": [],
   "source": [
    "followings = read_json(f\"{data_folder}/mizzaroFollowings.json\")\n",
    "followers =  read_json(f\"{data_folder}/mizzaroFollowers.json\")\n",
    "followers_of_account =[]\n",
    "followings_of_account =[]\n",
    "for following in followings:\n",
    "    followings_of_account += [following[\"screen_name\"]]\n",
    "for follower in followers:\n",
    "    followers_of_account += [follower[\"screen_name\"]]\n",
    "    \n",
    "users_data = [ \"mizzaro\" ] + followers_of_account + followings_of_account #+ followers_of_followers + followings_of_followings    \n",
    "'''\n",
    "followings5 = followings[:5]\n",
    "followersSN = []\n",
    "followingsSN =[]\n",
    "for x in followings5:\n",
    "    followingsSN += [ x[\"screen_name\"]]\n",
    "for x in followers5:\n",
    "    followersSN += [ x[\"screen_name\"]]\n",
    "'''\n",
    "\n",
    "print(users_data)\n",
    "print(len(users_data))"
   ]
  },
  {
   "cell_type": "code",
   "execution_count": null,
   "metadata": {},
   "outputs": [],
   "source": [
    "data_of_accounts= []\n",
    "for user in users_data:\n",
    "    path = \"users_profile_data.json\" \n",
    "    raw_data = api.get_user(user)\n",
    "    json_data = raw_data._json\n",
    "    profile_data = {}\n",
    "    profile_data[\"id\"] = json_data[\"id\"]\n",
    "    profile_data[\"name\"] = json_data[\"name\"]\n",
    "    profile_data[\"screen_name\"] = json_data[\"screen_name\"]\n",
    "    profile_data[\"location\"] = json_data[\"location\"]\n",
    "    profile_data[\"description\"] = json_data[\"description\"]\n",
    "    profile_data[\"followers_count\"] = json_data[\"followers_count\"]\n",
    "    data_of_accounts += [profile_data]\n",
    "    print(f\"Processing user's data {len(data_of_accounts)} of account: \"+user)  #{profile_data[\"screen_name\"]}\")\n",
    "serialize_json(data_folder, path, data_of_accounts)\n",
    "pp.pprint(data_of_accounts)\n"
   ]
  },
  {
   "cell_type": "code",
   "execution_count": 15,
   "metadata": {},
   "outputs": [
    {
     "name": "stdout",
     "output_type": "stream",
     "text": [
      "489\n"
     ]
    }
   ],
   "source": [
    "print(len(data_of_accounts))"
   ]
  }
 ],
 "metadata": {
  "kernelspec": {
   "display_name": "Python 3",
   "language": "python",
   "name": "python3"
  },
  "language_info": {
   "codemirror_mode": {
    "name": "ipython",
    "version": 3
   },
   "file_extension": ".py",
   "mimetype": "text/x-python",
   "name": "python",
   "nbconvert_exporter": "python",
   "pygments_lexer": "ipython3",
   "version": "3.7.9"
  }
 },
 "nbformat": 4,
 "nbformat_minor": 4
}
